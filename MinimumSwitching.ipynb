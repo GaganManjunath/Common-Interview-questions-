{
 "cells": [
  {
   "cell_type": "code",
   "execution_count": null,
   "id": "34c01126",
   "metadata": {},
   "outputs": [],
   "source": [
    "N = int(input())\n",
    "a = []\n",
    "def findcount(a,count):\n",
    "    main = a\n",
    "    if(len(a)==1):\n",
    "        count+=1\n",
    "        return count\n",
    "    for j in range(len(a)-1):\n",
    "        if(a[j]==a[j+1]):\n",
    "            continue\n",
    "        else:\n",
    "            count+=1\n",
    "            findcount(a[(j+1):],count)\n",
    "    if(main[0]==1):\n",
    "        return count+1\n",
    "    else:\n",
    "        return count\n",
    "for i in range(N):\n",
    "    x = int(input())\n",
    "    a.append(x)\n",
    "print(findcount(a,0))\n"
   ]
  },
  {
   "cell_type": "code",
   "execution_count": null,
   "id": "4d70de9d",
   "metadata": {},
   "outputs": [],
   "source": []
  },
  {
   "cell_type": "code",
   "execution_count": null,
   "id": "6ece40e9",
   "metadata": {},
   "outputs": [],
   "source": []
  }
 ],
 "metadata": {
  "kernelspec": {
   "display_name": "Python 3",
   "language": "python",
   "name": "python3"
  },
  "language_info": {
   "codemirror_mode": {
    "name": "ipython",
    "version": 3
   },
   "file_extension": ".py",
   "mimetype": "text/x-python",
   "name": "python",
   "nbconvert_exporter": "python",
   "pygments_lexer": "ipython3",
   "version": "3.8.8"
  }
 },
 "nbformat": 4,
 "nbformat_minor": 5
}
